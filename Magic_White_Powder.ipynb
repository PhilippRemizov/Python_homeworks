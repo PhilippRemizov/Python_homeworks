{
 "cells": [
  {
   "cell_type": "code",
   "execution_count": 2,
   "metadata": {},
   "outputs": [],
   "source": [
    "%matplotlib inline\n",
    "import yfinance as yf\n",
    "import pandas as pd\n",
    "import matplotlib.pyplot as plt\n",
    "import seaborn; seaborn.set()\n",
    "from pandas_datareader import data as pdr\n",
    "from bs4 import BeautifulSoup"
   ]
  },
  {
   "cell_type": "raw",
   "metadata": {},
   "source": [
    "# Задание 1.\n",
    "\n",
    "Вы - менеджер по продажам в нефтехимической компании. Вы ведете несколько ключевых клиентов, которые закупают продукты вашей компании. Ваша компания запускает новый продукт - \"Волшебный белый порошок\" (ВБП), который по своим свойствам похож на тот, что уже есть на рынке. Ваши клиенты предпочитают формульный подход к ценообразованию. Вам нужно предложить клиентам формулу расчета цены на ВБП. В зависимости от объемов, которые покупают клиенты, им может быть предложена скидка.\n",
    "\n",
    "### Дополнительные вводные:\n",
    "\n",
    "Так как продукт Б новый, возможно стоит предложить дисконт от цены Продукта А. Продукт производиться из нефти. Один из известных способов производства предполагает что из 16 баррелей нефти сделают одну тонну ВБП, а затраты на производство в районе 400 евро."
   ]
  },
  {
   "cell_type": "code",
   "execution_count": 3,
   "metadata": {},
   "outputs": [],
   "source": [
    "# Из данных есть:\n",
    "# Цены на продукт А, который уже есть на рынке Европы\n",
    "# ----- октябрь 2018 - 1600 евро\n",
    "# ----- ноябрь 2018 - 1550 евро\n",
    "# ----- февраль 2019 - 1600 евро\n",
    "\n",
    "# Котировки нефти, курс eur/usd\n",
    "dbc = pd.read_excel('cur_oil.xlsx')\n",
    "\n",
    "# Затраты на производство\n",
    "PRODUCTION_COST = 400 # (EUR)\n",
    "\n",
    "# Расходы на логистику\n",
    "EU_LOGISTIC_COST_EUR = 30 # в Европу в евро\n",
    "CN_LOGISTIC_COST_USD = 130 # в Китай в долларах\n",
    "\n",
    "# * Справочная информация по клиентам(объемы, локации, комментарии) \n",
    "customers = {\n",
    "    'Monty':{\n",
    "        'location':'EU',\n",
    "        'volumes':200,\n",
    "        'comment':'moving_average'\n",
    "    },\n",
    "    \n",
    "    'Triangle':{\n",
    "        'location':'CN',\n",
    "        'volumes': 30,\n",
    "        'comment': 'monthly'\n",
    "    },\n",
    "    'Stone':{\n",
    "        'location':'EU',\n",
    "        'volumes': 150,\n",
    "        'comment': 'moving_average'\n",
    "    },\n",
    "    'Poly':{\n",
    "        'location':'EU',\n",
    "        'volumes': 70,\n",
    "        'comment': 'monthly'\n",
    "    }\n",
    "}\n",
    "# Скидки\n",
    "discounts = {'up to 100': 0.01, # 1%\n",
    "             'up to 300': 0.05, # 5%\n",
    "             '300 plus': 0.1}   #10%\n"
   ]
  },
  {
   "cell_type": "code",
   "execution_count": null,
   "metadata": {},
   "outputs": [],
   "source": [
    "# Что нужно сделать?\n",
    "\n",
    "1. Проанализировать имеющиеся данные.\n",
    "2. Определить базовую формулу цены на условиях FCA (цена на заводе). То есть как бы выглядела цена на исторических данных.\n",
    "3. Отобразить на графике.\n",
    "4. Сделать расчет возможной цены по формуле для каждого из клиентов на условиях DDP (цена с доставкой). \n",
    "Записать все в один эксель файл, на разных листах. Каждый лист - название клиента.\n",
    "5. Предложить формулу цены каждому из клиентов на условиях DDP (цена с доставкой).\n",
    "- Создать директорию «для клиентов» и в ней сложить  файлы с расчетами.\n",
    "- Каждый клиент - отдельный файл (любой из docx, xlsx, pptx, pdf)  с именем клиента… \n",
    "\n",
    "### В результате должно быть 3 файла:\n",
    "1. Ноутбук с расчетами и графиками. \n",
    "2. Скрипт, который делает расчет цены для каждого клиента в одном файле\n",
    "2. Скрипт, который делает расчет цены для каждого клиента в отельном файле"
   ]
  },
  {
   "cell_type": "code",
   "execution_count": 4,
   "metadata": {},
   "outputs": [],
   "source": [
    "# customers\n",
    "# ----- октябрь 2018 - 1600 евро\n",
    "# ----- ноябрь 2018 - 1550 евро\n",
    "# ----- февраль 2019 - 1600 евро\n",
    "# dbc\n",
    "\n",
    "#Выгружаем данные по 3-м месяцам (для анализа).\n",
    "\n",
    "oct_2018 = dbc[(dbc['Date']>='2018-10-01')&(dbc['Date']<='2018-10-31')]\n",
    "nov_2018 = dbc[(dbc['Date']>='2018-11-01')&(dbc['Date']<='2018-11-30')]\n",
    "feb_2019 = dbc[(dbc['Date']>='2019-02-01')&(dbc['Date']<='2019-02-28')]\n",
    "\n",
    "# Убираем пропущенные значения: ставим прерыдущее заполненное вместо NaN либо выполняем интерполяцию \n",
    "# (2-ой метод предпочтительнее)\n",
    "\n",
    "# nov_2018['OIL'] = nov_2018.OIL.fillna(method='ffill')\n",
    "# feb_2019['OIL'] = feb_2019.OIL.fillna(method='ffill')\n",
    "\n",
    "oct_2018 = oct_2018.set_index('Date')\n",
    "nov_2018 = nov_2018.set_index('Date')\n",
    "nov_2018 = nov_2018.interpolate(method='time')\n",
    "feb_2019 = feb_2019.set_index('Date')\n",
    "feb_2019 = feb_2019.interpolate(method='time')\n",
    "# feb_2019 = feb_2019.reset_index()\n",
    "\n",
    "# Цена на нефть (среднее)\n",
    "oct_oil_mean = oct_2018.OIL.mean()\n",
    "nov_oil_mean = nov_2018.OIL.mean()\n",
    "feb_oil_mean = feb_2019.OIL.mean()\n",
    "\n",
    "# Курс евро к доллару (среднее)\n",
    "oct_EURUSD_mean = oct_2018['EURUSD=X'].mean()\n",
    "nov_EURUSD_mean = nov_2018['EURUSD=X'].mean()\n",
    "feb_EURUSD_mean = feb_2019['EURUSD=X'].mean()\n",
    "\n",
    "# price_prod_A_mean\n",
    "price_oct_eur = ((oct_oil_mean/oct_EURUSD_mean)*16)+PRODUCTION_COST+EU_LOGISTIC_COST_EUR\n",
    "price_nov_eur = ((nov_oil_mean/nov_EURUSD_mean)*16)+PRODUCTION_COST+EU_LOGISTIC_COST_EUR\n",
    "price_feb_eur = ((feb_oil_mean/feb_EURUSD_mean)*16)+PRODUCTION_COST+EU_LOGISTIC_COST_EUR\n",
    "# Цена с учётом доставки для Европы (30 евро)\n",
    "price_eur_A = [price_oct_eur,price_nov_eur,price_feb_eur]\n",
    "price_oct_china = ((oct_oil_mean/oct_EURUSD_mean)*16)+PRODUCTION_COST+(CN_LOGISTIC_COST_USD/oct_EURUSD_mean)\n",
    "price_nov_china = ((nov_oil_mean/nov_EURUSD_mean)*16)+PRODUCTION_COST+(CN_LOGISTIC_COST_USD/nov_EURUSD_mean)\n",
    "price_feb_china = ((feb_oil_mean/feb_EURUSD_mean)*16)+PRODUCTION_COST+(CN_LOGISTIC_COST_USD/feb_EURUSD_mean)\n",
    "# Цена с учётом доставки для Китая (130 долларов)\n",
    "price_china_A = [price_oct_china,price_nov_china,price_feb_china] \n",
    "\n",
    "# price_oct 1450 1533\n",
    "# price_nov 1255 1340\n",
    "# price_feb 1228 1313\n",
    "\n",
    "# feb_2019"
   ]
  },
  {
   "cell_type": "code",
   "execution_count": 5,
   "metadata": {},
   "outputs": [
    {
     "data": {
      "image/png": "[encoded data removed]",
      "text/plain": [
       "<Figure size 432x288 with 1 Axes>"
      ]
     },
     "metadata": {},
     "output_type": "display_data"
    }
   ],
   "source": [
    "# Цена на исторических данных (среднемесячные значения) с учётом доставки\n",
    "# price_eur_A #цена для Европы (продукт А)\n",
    "plt.title('Цена на исторических данных (среднемесячные значения)')\n",
    "plt.plot(['oct_2018','nov_2018','feb_2019'], price_eur_A)\n",
    "plt.plot(['oct_2018','nov_2018','feb_2019'], price_china_A)\n",
    "plt.legend(labels=['eur','china'])\n",
    "plt.show()\n"
   ]
  },
  {
   "cell_type": "markdown",
   "metadata": {},
   "source": [
    "Добавляем новый столбец. в котором будет указана цена продукта (без учёта доставки) в ЕВРО."
   ]
  },
  {
   "cell_type": "code",
   "execution_count": 6,
   "metadata": {},
   "outputs": [
    {
     "data": {
      "text/html": [
       "<div>\n",
       "<style scoped>\n",
       "    .dataframe tbody tr th:only-of-type {\n",
       "        vertical-align: middle;\n",
       "    }\n",
       "\n",
       "    .dataframe tbody tr th {\n",
       "        vertical-align: top;\n",
       "    }\n",
       "\n",
       "    .dataframe thead th {\n",
       "        text-align: right;\n",
       "    }\n",
       "</style>\n",
       "<table border=\"1\" class=\"dataframe\">\n",
       "  <thead>\n",
       "    <tr style=\"text-align: right;\">\n",
       "      <th></th>\n",
       "      <th>EURUSD=X</th>\n",
       "      <th>OIL</th>\n",
       "      <th>base_cost</th>\n",
       "    </tr>\n",
       "    <tr>\n",
       "      <th>Date</th>\n",
       "      <th></th>\n",
       "      <th></th>\n",
       "      <th></th>\n",
       "    </tr>\n",
       "  </thead>\n",
       "  <tbody>\n",
       "    <tr>\n",
       "      <th>2018-10-01</th>\n",
       "      <td>1.1605</td>\n",
       "      <td>78.15</td>\n",
       "      <td>1477.47</td>\n",
       "    </tr>\n",
       "    <tr>\n",
       "      <th>2018-10-02</th>\n",
       "      <td>1.1578</td>\n",
       "      <td>77.75</td>\n",
       "      <td>1474.45</td>\n",
       "    </tr>\n",
       "    <tr>\n",
       "      <th>2018-10-03</th>\n",
       "      <td>1.1552</td>\n",
       "      <td>79.07</td>\n",
       "      <td>1495.15</td>\n",
       "    </tr>\n",
       "    <tr>\n",
       "      <th>2018-10-04</th>\n",
       "      <td>1.1476</td>\n",
       "      <td>77.04</td>\n",
       "      <td>1474.10</td>\n",
       "    </tr>\n",
       "    <tr>\n",
       "      <th>2018-10-05</th>\n",
       "      <td>1.1518</td>\n",
       "      <td>77.02</td>\n",
       "      <td>1469.91</td>\n",
       "    </tr>\n",
       "    <tr>\n",
       "      <th>...</th>\n",
       "      <td>...</td>\n",
       "      <td>...</td>\n",
       "      <td>...</td>\n",
       "    </tr>\n",
       "    <tr>\n",
       "      <th>2019-02-22</th>\n",
       "      <td>1.1343</td>\n",
       "      <td>58.65</td>\n",
       "      <td>1227.29</td>\n",
       "    </tr>\n",
       "    <tr>\n",
       "      <th>2019-02-25</th>\n",
       "      <td>1.1342</td>\n",
       "      <td>56.80</td>\n",
       "      <td>1201.27</td>\n",
       "    </tr>\n",
       "    <tr>\n",
       "      <th>2019-02-26</th>\n",
       "      <td>1.1368</td>\n",
       "      <td>57.04</td>\n",
       "      <td>1202.81</td>\n",
       "    </tr>\n",
       "    <tr>\n",
       "      <th>2019-02-27</th>\n",
       "      <td>1.1393</td>\n",
       "      <td>58.43</td>\n",
       "      <td>1220.57</td>\n",
       "    </tr>\n",
       "    <tr>\n",
       "      <th>2019-02-28</th>\n",
       "      <td>1.1380</td>\n",
       "      <td>58.63</td>\n",
       "      <td>1224.32</td>\n",
       "    </tr>\n",
       "  </tbody>\n",
       "</table>\n",
       "<p>65 rows × 3 columns</p>\n",
       "</div>"
      ],
      "text/plain": [
       "            EURUSD=X    OIL  base_cost\n",
       "Date                                  \n",
       "2018-10-01    1.1605  78.15    1477.47\n",
       "2018-10-02    1.1578  77.75    1474.45\n",
       "2018-10-03    1.1552  79.07    1495.15\n",
       "2018-10-04    1.1476  77.04    1474.10\n",
       "2018-10-05    1.1518  77.02    1469.91\n",
       "...              ...    ...        ...\n",
       "2019-02-22    1.1343  58.65    1227.29\n",
       "2019-02-25    1.1342  56.80    1201.27\n",
       "2019-02-26    1.1368  57.04    1202.81\n",
       "2019-02-27    1.1393  58.43    1220.57\n",
       "2019-02-28    1.1380  58.63    1224.32\n",
       "\n",
       "[65 rows x 3 columns]"
      ]
     },
     "execution_count": 6,
     "metadata": {},
     "output_type": "execute_result"
    }
   ],
   "source": [
    "oct_2018['base_cost'] = ((oct_2018.OIL/oct_2018['EURUSD=X'])*16)+PRODUCTION_COST\n",
    "nov_2018['base_cost'] = ((nov_2018.OIL/nov_2018['EURUSD=X'])*16)+PRODUCTION_COST\n",
    "feb_2019['base_cost'] = ((feb_2019.OIL/feb_2019['EURUSD=X'])*16)+PRODUCTION_COST\n",
    "oct_2018['base_cost'] = oct_2018.base_cost.round(decimals=2)\n",
    "nov_2018['base_cost'] = nov_2018.base_cost.round(decimals=2)\n",
    "feb_2019['base_cost'] = feb_2019.base_cost.round(decimals=2)\n",
    "# oct_2018\n",
    "agg_data = pd.concat([oct_2018, nov_2018, feb_2019], ignore_index=False)\n",
    "agg_data"
   ]
  },
  {
   "cell_type": "code",
   "execution_count": 7,
   "metadata": {},
   "outputs": [
    {
     "data": {
      "image/png": "[encoded data removed]",
      "text/plain": [
       "<Figure size 432x288 with 1 Axes>"
      ]
     },
     "metadata": {},
     "output_type": "display_data"
    }
   ],
   "source": [
    "plt.plot(oct_2018.index, oct_2018.base_cost)\n",
    "plt.title('Базовая цена окт. 2018')\n",
    "plt.xticks(rotation=60)\n",
    "plt.show()"
   ]
  },
  {
   "cell_type": "code",
   "execution_count": 8,
   "metadata": {},
   "outputs": [
    {
     "data": {
      "image/png": "[encoded data removed]",
      "text/plain": [
       "<Figure size 432x288 with 1 Axes>"
      ]
     },
     "metadata": {},
     "output_type": "display_data"
    }
   ],
   "source": [
    "plt.plot(nov_2018.index, nov_2018.base_cost)\n",
    "plt.title('Базовая цена ноя. 2018')\n",
    "plt.xticks(rotation=60)\n",
    "plt.show()"
   ]
  },
  {
   "cell_type": "code",
   "execution_count": 9,
   "metadata": {},
   "outputs": [
    {
     "data": {
      "image/png": "[encoded data removed]",
      "text/plain": [
       "<Figure size 432x288 with 1 Axes>"
      ]
     },
     "metadata": {},
     "output_type": "display_data"
    }
   ],
   "source": [
    "plt.plot(feb_2019.index, feb_2019.base_cost)\n",
    "plt.title('Базовая цена фев. 2019')\n",
    "plt.xticks(rotation=60)\n",
    "plt.show()"
   ]
  },
  {
   "cell_type": "code",
   "execution_count": 10,
   "metadata": {},
   "outputs": [
    {
     "data": {
      "image/png": "[encoded data removed]",
      "text/plain": [
       "<Figure size 432x288 with 1 Axes>"
      ]
     },
     "metadata": {},
     "output_type": "display_data"
    }
   ],
   "source": [
    "plt.plot(agg_data.index, agg_data.base_cost)\n",
    "plt.title('Базовая цена за прошлые периоды')\n",
    "plt.xticks(rotation=60)\n",
    "plt.show()"
   ]
  },
  {
   "cell_type": "code",
   "execution_count": 51,
   "metadata": {
    "scrolled": true
   },
   "outputs": [
    {
     "data": {
      "text/plain": [
       "{'Monty': {'location': 'EU', 'volumes': 200, 'comment': 'moving_average'},\n",
       " 'Triangle': {'location': 'CN', 'volumes': 30, 'comment': 'monthly'},\n",
       " 'Stone': {'location': 'EU', 'volumes': 150, 'comment': 'moving_average'},\n",
       " 'Poly': {'location': 'EU', 'volumes': 70, 'comment': 'monthly'}}"
      ]
     },
     "execution_count": 51,
     "metadata": {},
     "output_type": "execute_result"
    }
   ],
   "source": [
    "customers"
   ]
  },
  {
   "cell_type": "code",
   "execution_count": 52,
   "metadata": {
    "scrolled": true
   },
   "outputs": [
    {
     "data": {
      "text/plain": [
       "{'up to 100': 0.01, 'up to 300': 0.05, '300 plus': 0.1}"
      ]
     },
     "execution_count": 52,
     "metadata": {},
     "output_type": "execute_result"
    }
   ],
   "source": [
    "discounts"
   ]
  },
  {
   "cell_type": "code",
   "execution_count": null,
   "metadata": {},
   "outputs": [],
   "source": [
    "4. Сделать расчет возможной цены по формуле для каждого из клиентов на условиях DDP (цена с доставкой). \n",
    "Записать все в один эксель файл, на разных листах. Каждый лист - название клиента.\n",
    "5. Предложить формулу цены каждому из клиентов на условиях DDP (цена с доставкой).\n",
    "- Создать директорию «для клиентов» и в ней сложить  файлы с расчетами.\n",
    "- Каждый клиент - отдельный файл (любой из docx, xlsx, pptx, pdf)  с именем клиента… \n",
    "\n",
    "### В результате должно быть 3 файла:\n",
    "1. Ноутбук с расчетами и графиками. \n",
    "2. Скрипт, который делает расчет цены для каждого клиента в одном файле\n",
    "2. Скрипт, который делает расчет цены для каждого клиента в отельном файле"
   ]
  },
  {
   "cell_type": "markdown",
   "metadata": {},
   "source": [
    "Создаём таблицу, которая содержит все данные. Получаем усреднённые значения на данных за последние 5 месяцев."
   ]
  },
  {
   "cell_type": "code",
   "execution_count": 11,
   "metadata": {},
   "outputs": [],
   "source": [
    "all_data = dbc\n",
    "all_data = all_data.set_index('Date')\n",
    "all_data = all_data.interpolate(method='time')\n",
    "# all_data\n",
    "all_data['base_cost'] = ((all_data.OIL/all_data['EURUSD=X'])*16)+PRODUCTION_COST\n",
    "all_data['deliver_CN'] = CN_LOGISTIC_COST_USD/all_data['EURUSD=X']\n",
    "all_data = all_data.reset_index()\n",
    "all_data_5_month = all_data[(all_data['Date']>='2018-12-01')&(all_data['Date']<='2019-04-30')]\n",
    "# all_data_5_month\n",
    "oil_mean_for_5_month = all_data_5_month.OIL.mean() #средняя цена на нефть в $\n",
    "EURUSD_mean_for_5_month = all_data_5_month['EURUSD=X'].mean() #среднее значение отношения курса ЕВРО к курсу USD\n",
    "PROFIT = 50 # наш гарантированный доход в 50 ЕВРО с заказа\n",
    "one_=(oil_mean_for_5_month/EURUSD_mean_for_5_month)*16+PRODUCTION_COST  # Стоимость производства одной тонны про\n",
    "one_ = round(one_, ndigits=2)"
   ]
  },
  {
   "cell_type": "code",
   "execution_count": 101,
   "metadata": {},
   "outputs": [
    {
     "name": "stdout",
     "output_type": "stream",
     "text": [
      "  Client Location  Volume  Price_with_disc  Price_for_one\n",
      "0  Monty       EU     200         234538.5        1172.69\n",
      "     Client Location  Volume  Price_with_disc  Price_for_one\n",
      "0  Triangle       CN      30         39217.46        1307.25\n",
      "  Client Location  Volume  Price_with_disc  Price_for_one\n",
      "0  Stone       EU     150        175916.38        1172.78\n",
      "  Client Location  Volume  Price_with_disc  Price_for_one\n",
      "0   Poly       EU      70          85576.6        1222.52\n"
     ]
    }
   ],
   "source": [
    "def price(client, location, volume):\n",
    "    if location == 'EU':\n",
    "        add_price = EU_LOGISTIC_COST_EUR\n",
    "    if location == 'CN':\n",
    "        add_price = CN_LOGISTIC_COST_USD/EURUSD_mean_for_5_month\n",
    "    if volume <= 100:\n",
    "        disc = 1-discounts.get('up to 100')\n",
    "    elif volume > 100 and volume <= 300:\n",
    "        disc = 1-discounts.get('up to 300')\n",
    "    else:\n",
    "        disc = 1-discounts.get('300 plus')\n",
    "    \n",
    "    end_price =  ((volume*(one_+add_price))*disc)+PROFIT\n",
    "    \n",
    "    end_price = round(end_price, ndigits=2)\n",
    "    to_excel_ = pd.DataFrame({'Client': client,'Location': location, 'Volume': volume, 'Price_with_disc': end_price, 'Price_for_one': round(end_price/volume, ndigits=2) }, index=[0])\n",
    "    print(to_excel_)\n",
    "    to_excel_.to_excel(writer, sheet_name=str(client), index=False)\n",
    "\n",
    "writer = pd.ExcelWriter('price_with_delivery.xlsx', engine='xlsxwriter')\n",
    "\n",
    "for customer in customers:\n",
    "    cli = customer\n",
    "    loc = customers[customer]['location']\n",
    "    vol = customers[customer]['volumes']\n",
    "    comm = customers[customer]['comment']\n",
    "    price(cli, loc, vol)\n",
    "\n",
    "writer.save()"
   ]
  },
  {
   "cell_type": "code",
   "execution_count": 1,
   "metadata": {},
   "outputs": [],
   "source": [
    "import os\n",
    "os.mkdir('customer_offers')"
   ]
  },
  {
   "cell_type": "code",
   "execution_count": 15,
   "metadata": {},
   "outputs": [
    {
     "name": "stdout",
     "output_type": "stream",
     "text": [
      "  Client Location  Volume  Price_with_disc  Price_for_one\n",
      "0  Monty       EU     200         234538.5        1172.69\n",
      "     Client Location  Volume  Price_with_disc  Price_for_one\n",
      "0  Triangle       CN      30         39217.46        1307.25\n",
      "  Client Location  Volume  Price_with_disc  Price_for_one\n",
      "0  Stone       EU     150        175916.38        1172.78\n",
      "  Client Location  Volume  Price_with_disc  Price_for_one\n",
      "0   Poly       EU      70          85576.6        1222.52\n"
     ]
    }
   ],
   "source": [
    "def price(client, location, volume):\n",
    "    writer = pd.ExcelWriter('customer_offers/'+client+'.xlsx', engine='xlsxwriter')\n",
    "    if location == 'EU':\n",
    "        add_price = EU_LOGISTIC_COST_EUR\n",
    "    if location == 'CN':\n",
    "        add_price = CN_LOGISTIC_COST_USD/EURUSD_mean_for_5_month\n",
    "    if volume <= 100:\n",
    "        disc = 1-discounts.get('up to 100')\n",
    "    elif volume > 100 and volume <= 300:\n",
    "        disc = 1-discounts.get('up to 300')\n",
    "    else:\n",
    "        disc = 1-discounts.get('300 plus')\n",
    "    \n",
    "    end_price =  ((volume*(one_+add_price))*disc)+PROFIT\n",
    "    \n",
    "    end_price = round(end_price, ndigits=2)\n",
    "    to_excel_ = pd.DataFrame({'Client': client,'Location': location, 'Volume': volume, 'Price_with_disc': end_price, 'Price_for_one': round(end_price/volume, ndigits=2) }, index=[0])\n",
    "    print(to_excel_)\n",
    "    to_excel_.to_excel(writer, sheet_name=str(client), index=False)\n",
    "    writer.save()\n",
    "\n",
    "\n",
    "for customer in customers:\n",
    "    cli = customer\n",
    "    loc = customers[customer]['location']\n",
    "    vol = customers[customer]['volumes']\n",
    "    comm = customers[customer]['comment']\n",
    "    price(cli, loc, vol)\n",
    "\n",
    "# writer.save()"
   ]
  },
  {
   "cell_type": "markdown",
   "metadata": {},
   "source": [
    "# Задание 2. Продолжение"
   ]
  },
  {
   "cell_type": "markdown",
   "metadata": {},
   "source": [
    "Клиенты согласились на ваше предложение. \n",
    "Вам нужно сделать написать скрипт, с помощью которого можно автоматом рассчитывать цены для всех клиентов одновременно. \n",
    "Важный момент: данные для расчета скрипт должен подтягивать сам.\n",
    "\n",
    "В результате должно быть 3 файла\n",
    "1. Ноутбук с расчетами и графиками (чтобы данные подтягивались туда)\n",
    "2. Скрипт, который делает расчет цены для клиента (чтобы данные подтягивались туда сами)"
   ]
  },
  {
   "cell_type": "code",
   "execution_count": null,
   "metadata": {},
   "outputs": [],
   "source": [
    "# "
   ]
  },
  {
   "cell_type": "markdown",
   "metadata": {},
   "source": [
    "# Задание 3. Back to Russia\n",
    "\n",
    "К вам пришел новый клиент из России. Который использует продукт А и готов регулярно закупать ВБП для того, чтобы не быть привязанным к одному поставщику. Клиент готов забирать ВБП с завода самостоятельно.\n",
    "1. На основе тех данных, которые уже есть предложите цену новому клиенту. \n",
    "2. Подготовьте скрипт, который будет использовать курс публикуемый на <a href='http://www.cbr.ru/currency_base/dynamics/'> сайте ЦБ РФ</a>.\n"
   ]
  },
  {
   "cell_type": "code",
   "execution_count": null,
   "metadata": {},
   "outputs": [],
   "source": [
    "# "
   ]
  },
  {
   "cell_type": "markdown",
   "metadata": {},
   "source": [
    "# Задание 4. Check it"
   ]
  },
  {
   "cell_type": "markdown",
   "metadata": {},
   "source": [
    "* Подумайте, как можно проверить корректность работы алгоритма? \n",
    "* Какие возможны ошибки?\n",
    "* Придумайте тесты для проверки возможных ошибок алгоритма\n",
    "* Интергрируйте их в свои скрипты в виде исключений\n"
   ]
  },
  {
   "cell_type": "code",
   "execution_count": null,
   "metadata": {},
   "outputs": [],
   "source": [
    "# "
   ]
  },
  {
   "cell_type": "markdown",
   "metadata": {},
   "source": [
    "# Задание 5. Поделись с ближним"
   ]
  },
  {
   "cell_type": "markdown",
   "metadata": {},
   "source": [
    "Вы решили пойти в отпуск на время вашего отсутствия вас будет заменять коллега. Он будет заниматься рассчетом цен для клиентов. Чтобы ему было проще вам нужно завернуть ваши скрипты в модуль, который будет запускать у себя коллега."
   ]
  },
  {
   "cell_type": "markdown",
   "metadata": {},
   "source": [
    "* Создайте модуль, который можно запускать в ноутбуке подкладывая в ту же директорию\n",
    "* Хорошенько задокументируйте ВСЁ, но помните о PEP8"
   ]
  },
  {
   "cell_type": "code",
   "execution_count": null,
   "metadata": {},
   "outputs": [],
   "source": [
    "# import yourpackage"
   ]
  },
  {
   "cell_type": "markdown",
   "metadata": {},
   "source": [
    "# Задание 6. Поделись пакетом"
   ]
  },
  {
   "cell_type": "markdown",
   "metadata": {},
   "source": [
    "Ваши коллеги узнали, что вы быстро рассчитываете цены для формульных контрактов, и решили использовать такую же практику для своих продуктов и клиентов. Вам нужно создать пакет, чтобы его было проще устанавливать и использовать."
   ]
  },
  {
   "cell_type": "markdown",
   "metadata": {},
   "source": [
    "* Создайте отдельный пакет, который можно устанавливать с помощью pip \n",
    "* В пакете должны быть реализованы функции для рассчета цен по формульным контрактам\n",
    "* Выложите пакет в репозиторий"
   ]
  },
  {
   "cell_type": "code",
   "execution_count": null,
   "metadata": {},
   "outputs": [],
   "source": [
    "# !pip install yourpackage\n",
    "# import yourpackage"
   ]
  }
 ],
 "metadata": {
  "kernelspec": {
   "display_name": "Python 3",
   "language": "python",
   "name": "python3"
  },
  "language_info": {
   "codemirror_mode": {
    "name": "ipython",
    "version": 3
   },
   "file_extension": ".py",
   "mimetype": "text/x-python",
   "name": "python",
   "nbconvert_exporter": "python",
   "pygments_lexer": "ipython3",
   "version": "3.8.5"
  }
 },
 "nbformat": 4,
 "nbformat_minor": 2
}
